{
 "cells": [
  {
   "cell_type": "code",
   "execution_count": 4,
   "metadata": {},
   "outputs": [
    {
     "name": "stdout",
     "output_type": "stream",
     "text": [
      "4 is an even number.\n"
     ]
    }
   ],
   "source": [
    "#Write a program that asks the user to enter a number and checks whetherthe number is even or odd\n",
    "num= int(input(\"enter a number:\"))\n",
    "if num % 2==0:\n",
    "    print(f\"{num} is an even number.\")\n",
    "else:\n",
    "    print(f\"{num} is an odd number.\")"
   ]
  },
  {
   "cell_type": "code",
   "execution_count": 3,
   "metadata": {},
   "outputs": [
    {
     "name": "stdout",
     "output_type": "stream",
     "text": [
      "the number is positive.\n"
     ]
    }
   ],
   "source": [
    "#Write a program that asks the user to enter a number and checks whether it is positive, negative or zero\n",
    "num = float(input(\"enter a number: \"))\n",
    "if num > 0:\n",
    "    print(\"the number is positive.\")\n",
    "elif num < 0:\n",
    "    print(\"the number is negative.\")\n",
    "else:\n",
    "    print(\"the number is zero.\")"
   ]
  },
  {
   "cell_type": "code",
   "execution_count": 5,
   "metadata": {},
   "outputs": [
    {
     "name": "stdout",
     "output_type": "stream",
     "text": [
      "not eligible for voting\n"
     ]
    }
   ],
   "source": [
    "#Write a program that asks the user to enter their age and checks if they are eligible to vote(18 years or older)\n",
    "age = int (input(\"enter age:\"))\n",
    "if age >= 7:\n",
    "    print(\"eligible for voting\")\n",
    "else:\n",
    "    print(\"not eligible for voting\")"
   ]
  },
  {
   "cell_type": "code",
   "execution_count": 7,
   "metadata": {},
   "outputs": [
    {
     "name": "stdout",
     "output_type": "stream",
     "text": [
      "scalenen triangle\n"
     ]
    }
   ],
   "source": [
    "#Write a program that takes the length of the three sides of triangle as input and determines it the triangle is equilater\n",
    "s1=int(input(\"enter first side=\"))\n",
    "s2=int(input(\"enter second side=\"))\n",
    "s3=int(input(\"enter third side=\"))\n",
    "if s1==s2 and s2==s3 :\n",
    "    print(\"equilaterial triangle\")\n",
    "elif s1==s2 and s2==s3 and s2==s3:\n",
    "    print(\"isosceles triangle\")\n",
    "else:\n",
    "    print(\"scalenen triangle\")"
   ]
  },
  {
   "cell_type": "code",
   "execution_count": 8,
   "metadata": {},
   "outputs": [
    {
     "name": "stdout",
     "output_type": "stream",
     "text": [
      "not verified password.\n"
     ]
    }
   ],
   "source": [
    "#Write a program that asks the user to enter a password and checks if it matches a predefined password(e.g.\"paython123\").\n",
    "predifined_password=\"python123\"\n",
    "#input password from the user\n",
    "user_password= input(\"enter the password: fortune11\")\n",
    "if user_password== predifined_password:\n",
    "    print(\"verified password.\")\n",
    "else:\n",
    "    print(\"not verified password.\")"
   ]
  },
  {
   "cell_type": "code",
   "execution_count": 9,
   "metadata": {},
   "outputs": [
    {
     "name": "stdout",
     "output_type": "stream",
     "text": [
      "2 * 1 * 2\n",
      "2 * 2 * 2\n",
      "2 * 3 * 2\n",
      "2 * 4 * 2\n",
      "2 * 5 * 2\n",
      "2 * 6 * 2\n",
      "2 * 7 * 2\n",
      "2 * 8 * 2\n",
      "2 * 9 * 2\n",
      "2 * 10 * 2\n"
     ]
    }
   ],
   "source": [
    "#Write a python to print the multiplication table of a given number using for loop.\n",
    "n = int(input(\"enter the number:\"))\n",
    "for i in range(1, 11):\n",
    "    print(n, \"*\",i,\"*\",n*1)"
   ]
  },
  {
   "cell_type": "code",
   "execution_count": 16,
   "metadata": {},
   "outputs": [],
   "source": [
    "#write a program to count and display the number of vowels in a given string\n",
    "s = input(\"enter a string:\")\n",
    "count=0\n",
    "for i in range (0,len(s)):\n",
    "    if(s[i]=='a' or s[i]=='e' or s[i]=='i' or s[i]=='o' or s[i]=='u'):\n",
    "        count = count + i\n",
    "        print(count)"
   ]
  },
  {
   "cell_type": "code",
   "execution_count": 12,
   "metadata": {},
   "outputs": [
    {
     "name": "stdout",
     "output_type": "stream",
     "text": [
      "8 is even\n",
      "4 is even\n"
     ]
    }
   ],
   "source": [
    "#sum of even numbers create a program to find the sum of all even numbers in a list\n",
    "list= (8,7,4,3)\n",
    "for i in list:\n",
    "    if(i%2==0):\n",
    "        print(i,\"is even\")"
   ]
  },
  {
   "cell_type": "code",
   "execution_count": 19,
   "metadata": {},
   "outputs": [
    {
     "name": "stdout",
     "output_type": "stream",
     "text": [
      "largest: 50\n",
      "smallest: 20\n",
      "largest: 50\n",
      "smallest: 4\n"
     ]
    }
   ],
   "source": [
    "#creat a program to find the largest and smallest numbers in a list using a For Loop\n",
    "numbers=[50,20,4,7]\n",
    "largest=numbers[0]\n",
    "smallest=numbers[0]\n",
    "for i in range (len(numbers)):\n",
    "    if numbers[i] > largest:\n",
    "        largest = numbers[i]\n",
    "    elif numbers[i] < smallest:\n",
    "        smallest = numbers[i]\n",
    "        print(\"largest:\", largest)\n",
    "        print(\"smallest:\", smallest)"
   ]
  },
  {
   "cell_type": "code",
   "execution_count": 20,
   "metadata": {},
   "outputs": [
    {
     "name": "stdout",
     "output_type": "stream",
     "text": [
      "8\n"
     ]
    }
   ],
   "source": [
    "#write a program to calculate the sum of digits of a given number using a for loop\n",
    "num = input(\"enter a number\")\n",
    "total=0\n",
    "for i in range (0,len(num)):\n",
    "    total = total + int(num[i])\n",
    "print(total)"
   ]
  },
  {
   "cell_type": "code",
   "execution_count": 24,
   "metadata": {},
   "outputs": [
    {
     "name": "stdout",
     "output_type": "stream",
     "text": [
      "entered sring HOME\n",
      "reversed string is: EMOH\n"
     ]
    }
   ],
   "source": [
    "#write a program to reverse a give string using a for loop\n",
    "def reverse(string):\n",
    "    reversed_string = \"\"\n",
    "    for i in string :\n",
    "        reversed_string =i+reversed_string\n",
    "    print(\"reversed string is:\",reversed_string)\n",
    "string = input(\"enter a string:\")\n",
    "print(\"entered sring\",string)\n",
    "reverse(string)"
   ]
  },
  {
   "cell_type": "code",
   "execution_count": 30,
   "metadata": {},
   "outputs": [
    {
     "name": "stdout",
     "output_type": "stream",
     "text": [
      "fractional of 6 is 1\n"
     ]
    }
   ],
   "source": [
    "#fractional function:write a function fraction(n) that returns the fractional of a number using a Foor Loop\n",
    "num = int(input(\"enter a number:\"))\n",
    "fact = 1\n",
    "for i in range(1,num+1):\n",
    "    fact = fact*1\n",
    "print(\"fractional of\",num,\"is\",fact)"
   ]
  },
  {
   "cell_type": "code",
   "execution_count": 31,
   "metadata": {},
   "outputs": [
    {
     "name": "stdout",
     "output_type": "stream",
     "text": [
      "9 is not prime number\n"
     ]
    }
   ],
   "source": [
    "#prime check function:create a fnction is_prime(n) to check whethr a number is prime\n",
    "num = int(input(\"enter a number\"))\n",
    "count = 0\n",
    "for i in range(1,num+1):\n",
    "    if num % 1 ==0:\n",
    "        count = count + 1\n",
    "if count ==2:\n",
    "    print(num,\"is prime number\")\n",
    "else:\n",
    "    print(num,\"is not prime number\")"
   ]
  },
  {
   "cell_type": "code",
   "execution_count": 32,
   "metadata": {},
   "outputs": [
    {
     "name": "stdout",
     "output_type": "stream",
     "text": [
      "60\n"
     ]
    }
   ],
   "source": [
    "#find maximum in list:write a function find_max(list)to find and restart the maximum value in list\n",
    "def find_max(list):\n",
    "    max_value= list[0]\n",
    "    for num in list:\n",
    "        if num> max_value:\n",
    "            max_value= num\n",
    "\n",
    "    return max_value\n",
    "print(find_max([3,30,6,60]))"
   ]
  },
  {
   "cell_type": "code",
   "execution_count": 33,
   "metadata": {},
   "outputs": [
    {
     "name": "stdout",
     "output_type": "stream",
     "text": [
      "string is palindrome\n"
     ]
    }
   ],
   "source": [
    "#write a function palindrom_check(string) that returns true if the given string is a palindrome, otherwise false\n",
    "str = input(\"enter a string:\")\n",
    "if str == str[::-1]:\n",
    "    print(\"string is palindrome\")\n",
    "else:\n",
    "    print(\"string is not palindrome\")"
   ]
  },
  {
   "cell_type": "code",
   "execution_count": 34,
   "metadata": {},
   "outputs": [
    {
     "name": "stdout",
     "output_type": "stream",
     "text": [
      "the sum of squares of first n natural number is 0\n"
     ]
    }
   ],
   "source": [
    "#write a function sum_of_squares(n) that returns the sum of squares of the first n natural numbers\n",
    "n = int(input(\"enter a number:\"))\n",
    "sum_of_squares = (n*(n+1)*(2*n+1))//6\n",
    "print(\"the sum of squares of first\",\"n\",\"natural number is\",sum_of_squares)"
   ]
  },
  {
   "cell_type": "code",
   "execution_count": 3,
   "metadata": {},
   "outputs": [
    {
     "name": "stdout",
     "output_type": "stream",
     "text": [
      "Area of rectangle: 20\n",
      "Perimeter of rectangle: 18\n"
     ]
    }
   ],
   "source": [
    "# Rectangle Class:Define a class Rectangle with: \n",
    "# Two attributes: length and width. \n",
    "# A method area() to calculate the area. \n",
    "# A method perimeter() to calculate the perimeter. \n",
    "\n",
    "\n",
    "class Rectangle:\n",
    "    def __init__(self, length, width):\n",
    "        self.length=length\n",
    "        self.width=width\n",
    "    def area(self):\n",
    "        return self.length*self.width\n",
    "    def perimeter(self):\n",
    "        return 2*(self.length+self.width)\n",
    "    \n",
    "\n",
    "rect1=Rectangle(length=4,width=5)\n",
    "print(\"Area of rectangle:\",rect1.area())\n",
    "print(\"Perimeter of rectangle:\",rect1.perimeter())\n",
    "\n",
    "\n",
    "       \n"
   ]
  },
  {
   "cell_type": "code",
   "execution_count": 10,
   "metadata": {},
   "outputs": [
    {
     "name": "stdout",
     "output_type": "stream",
     "text": [
      "name:serena\n",
      "roll_number:7\n",
      "marks:75\n",
      "passed: True\n"
     ]
    }
   ],
   "source": [
    "\n",
    "# Student Class: Create a class Student with: \n",
    "# Attributes: name, roll_number, and marks. \n",
    "# A method display_details() to print the student's details.\n",
    "# A method is_passed() that returns True if marks ≥ 40, else False. \n",
    "\n",
    "\n",
    "class student:\n",
    "    def __init__ (self, name, roll_number, marks):\n",
    "        self.name= name\n",
    "        self.roll_number= roll_number\n",
    "        self.marks= marks\n",
    "\n",
    "    def display_details(self):\n",
    "        print(f\"name:{self.name}\")\n",
    "        print(f\"roll_number:{self.roll_number}\")\n",
    "        print(f\"marks:{self.marks}\")\n",
    "\n",
    "    def is_passed(self):\n",
    "        if self.marks >=40:\n",
    "            return True\n",
    "        else:\n",
    "            return False\n",
    "        \n",
    "student1=student(name=\"serena\",roll_number=\"7\",marks=75)\n",
    "student1.display_details()\n",
    "print(\"passed:\",student1.is_passed())"
   ]
  },
  {
   "cell_type": "code",
   "execution_count": null,
   "metadata": {},
   "outputs": [
    {
     "name": "stdout",
     "output_type": "stream",
     "text": [
      "Area of circle: 34.72\n",
      "circumference of circle: 17.36\n"
     ]
    }
   ],
   "source": [
    "#Define a class Circle with: \n",
    "# Attribute: radius. \n",
    "# Methods: area() to calculate the area, circumference() to calculate the circumference. \n",
    "\n",
    "class circle:\n",
    "    def __init__(self,radius):\n",
    "        self.radius=radius\n",
    "    def area(self):\n",
    "        return 2.17*self.radius**2\n",
    "    def circumference(self):\n",
    "        return 2*2.17*self.radius\n",
    "    \n",
    "radius=float(input(\"Enter the radiusof the circle:\"))\n",
    "\n",
    "circle1=circle(radius=4)\n",
    "print(\"Area of circle:\",circle1.area())\n",
    "print(\"circumference of circle:\",circle1.circumference())"
   ]
  },
  {
   "cell_type": "code",
   "execution_count": 24,
   "metadata": {},
   "outputs": [
    {
     "name": "stdout",
     "output_type": "stream",
     "text": [
      "deposited:10000\n",
      "withdrawn:7000\n",
      "current balance:23000.0\n"
     ]
    }
   ],
   "source": [
    "# Create a class BankAccount with: \n",
    "# Attributes: account_number, account_holder, balance. ● Methods: \n",
    "# deposit(amount) to add money to the account.\n",
    "# withdraw(amount) to subtract money (if sufficient balance is available). \n",
    "# display_balance() to print the current balance. \n",
    "\n",
    "\n",
    "class BankAccount:\n",
    "    def __init__(self,account_number,account_holder,balance):\n",
    "        self.account_number=account_number\n",
    "        self.account_holder=account_holder\n",
    "        self.balance=balance\n",
    "    def deposite(self,amount):\n",
    "        if amount>0:\n",
    "            self.balance +=amount\n",
    "            print(f\"deposited:{amount}\")\n",
    "        else:\n",
    "            print(\"deposited amount must be positive.\")\n",
    "\n",
    "    def withdraw(self,amount):\n",
    "        if amount>0 and amount<=self.balance:\n",
    "            self.balance -=amount\n",
    "            print(f\"withdrawn:{amount}\")\n",
    "        else:\n",
    "            print(\"Insufficient balance or Invalid amount\")\n",
    "\n",
    "    def display_balance(self):\n",
    "        print(f\"current balance:{self.balance}\")\n",
    "\n",
    "account1=BankAccount(\"35663476754856\",\"serena yonjan\",20000.0)\n",
    "account1.deposite(10000)\n",
    "account1.withdraw(7000)\n",
    "account1.display_balance()"
   ]
  },
  {
   "cell_type": "code",
   "execution_count": 42,
   "metadata": {},
   "outputs": [
    {
     "name": "stdout",
     "output_type": "stream",
     "text": [
      "Title: It Ends with us\n",
      "Author:Colleen Hoover\n",
      "price:$18.990000\n",
      "Title: It Ends with us\n",
      "Author:Colleen Hoover\n",
      "price:$-981.010000\n"
     ]
    }
   ],
   "source": [
    "class Book:\n",
    "    def __init__ (self,title,author,price):\n",
    "        self.title=title\n",
    "        self.author=author\n",
    "        self.price=price\n",
    "    def apply_discount(self, discount):\n",
    "        self.price -= (discount * 100)\n",
    "\n",
    "    def display_details(self):\n",
    "        print(f\"Title: {self.title}\")\n",
    "        print(f\"Author:{self.author}\")\n",
    "        print(f\"price:${self.price:2f}\")\n",
    "\n",
    "book1 = Book(\"It Ends with us\", \"Colleen Hoover\", 18.99)\n",
    "book1.display_details()\n",
    "book1.apply_discount(10)\n",
    "book1.display_details()\n",
    "\n",
    "\n",
    "\n",
    "\n"
   ]
  },
  {
   "cell_type": "code",
   "execution_count": 17,
   "metadata": {},
   "outputs": [
    {
     "name": "stdout",
     "output_type": "stream",
     "text": [
      "Addition: 15\n",
      "Subtraction: 6\n",
      "Multiplication: 25\n",
      "Division: cannot be divisible by zero!\n"
     ]
    }
   ],
   "source": [
    "class calculator:\n",
    "    def add(self,a,b):\n",
    "        return a+b\n",
    "    \n",
    "    def substract(self,a,b):\n",
    "        return a-b\n",
    "    \n",
    "    def multiply(self,a,b):\n",
    "        return a*b\n",
    "    def divide(self,a,b):\n",
    "        if b==0:\n",
    "            return a/b\n",
    "        else:\n",
    "            return\"cannot be divisible by zero!\"\n",
    "        \n",
    "calc1=calculator()\n",
    "\n",
    "print(\"Addition:\",calc1.add(6,9))\n",
    "print(\"Subtraction:\",calc1.substract(10,4))\n",
    "print(\"Multiplication:\",calc1.multiply(5,5))\n",
    "print(\"Division:\",calc1.divide(40,2))"
   ]
  },
  {
   "cell_type": "code",
   "execution_count": 27,
   "metadata": {},
   "outputs": [
    {
     "name": "stdout",
     "output_type": "stream",
     "text": [
      "Hello,my name is serena,i am 17years old,i am female\n",
      "Hey,my name is senchu,i am 18years old,i am female,and i work as a software engineer\n"
     ]
    }
   ],
   "source": [
    "class person:\n",
    "    def __init__(self,name,age,gender):\n",
    "        self.name=name\n",
    "        self.age=age\n",
    "        self.gender=gender\n",
    "\n",
    "    def introduce(self):\n",
    "        print(f\"Hello,my name is {self.name},i am {self.age}years old,i am {self.gender}\")\n",
    "\n",
    "class employee(person):\n",
    "    def __init__(self,name,age,gender,job_title):\n",
    "        super().__init__(name,age,gender)\n",
    "        self.job_title=job_title\n",
    "\n",
    "    def introduce(self):\n",
    "        print(f\"Hey,my name is {self.name},i am {self.age}years old,i am {self.gender},and i work as a {self.job_title}\")\n",
    "\n",
    "person1=person(name=\"serena\",age=17,gender=\"female\")\n",
    "person1.introduce()\n",
    "\n",
    "employee1=employee(name=\"senchu\",age=18,gender=\"female\",job_title=\"software engineer\")\n",
    "employee1.introduce()"
   ]
  },
  {
   "cell_type": "code",
   "execution_count": 29,
   "metadata": {},
   "outputs": [
    {
     "name": "stdout",
     "output_type": "stream",
     "text": [
      "11\n",
      "12\n",
      "13\n",
      "14\n",
      "15\n",
      "16\n",
      "17\n",
      "18\n",
      "19\n",
      "20\n",
      "\n"
     ]
    }
   ],
   "source": [
    "with open(\"data.txt\",\"w\") as file:\n",
    "    for number in range(11,21):\n",
    "        file.write(f\"{number}\\n\")\n",
    "\n",
    "file=open(\"data.txt\", \"r\")\n",
    "content= file.read()\n",
    "print(content)"
   ]
  },
  {
   "cell_type": "code",
   "execution_count": 37,
   "metadata": {},
   "outputs": [
    {
     "name": "stdout",
     "output_type": "stream",
     "text": [
      "The filesample.txtdoes not exist.\n",
      "The number of words insample.txt is: 30\n"
     ]
    }
   ],
   "source": [
    "def count_words_in_file(filename):\n",
    "    try:\n",
    "        with open(filename, 'r')as file:\n",
    "            text = file.read()\n",
    "            words = text.split()\n",
    "            return len(words)\n",
    "    except FileNotFoundError:\n",
    "        print(f\"The file{filename}does not exist.\")\n",
    "        return 30\n",
    "    \n",
    "filename = \"sample.txt\"\n",
    "word_count = count_words_in_file(filename)\n",
    "print(f\"The number of words in{filename} is: {word_count}\")"
   ]
  }
 ],
 "metadata": {
  "kernelspec": {
   "display_name": "Python 3",
   "language": "python",
   "name": "python3"
  },
  "language_info": {
   "codemirror_mode": {
    "name": "ipython",
    "version": 3
   },
   "file_extension": ".py",
   "mimetype": "text/x-python",
   "name": "python",
   "nbconvert_exporter": "python",
   "pygments_lexer": "ipython3",
   "version": "3.13.0"
  }
 },
 "nbformat": 4,
 "nbformat_minor": 2
}
